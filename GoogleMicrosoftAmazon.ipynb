{
 "cells": [
  {
   "cell_type": "markdown",
   "id": "34eed534",
   "metadata": {},
   "source": [
    "GOOGLE...\n",
    "\n",
    "Sum of bit differences among all pairs\n",
    "Difficulty Level : Hard\n",
    "\n",
    "Given an integer array of n integers, find sum of bit differences in all pairs that can be formed from array elements. Bit difference of a pair (x, y) is count of different bits at same positions in binary representations of x and y. \n",
    "For example, bit difference for 2 and 7 is 2. Binary representation of 2 is 010 and 7 is 111 ( first and last bits differ in two numbers). \n",
    "\n",
    "Efficient Solution – \n",
    "\n",
    "An Efficient Solution can solve this problem in O(n) time using the fact that all numbers are represented using 32 bits (or some fixed number of bits). The idea is to count differences at individual bit positions. We traverse from 0 to 31 and count numbers with i’th bit set. Let this count be ‘count’. There would be “n-count” numbers with i’th bit not set. So count of differences at i’th bit would be “count * (n-count) * 2”, the reason for this formula is as every pair having one element which has set bit at i’th position and second element having unset bit at i’th position contributes exactly 1 to sum, therefore total permutation count will be count*(n-count) and multiply by 2 is due to one more repetition of all this type of pair as per given condition for making pair 1<=i, j<=N."
   ]
  },
  {
   "cell_type": "code",
   "execution_count": 9,
   "id": "e1b3a7da",
   "metadata": {},
   "outputs": [
    {
     "name": "stdout",
     "output_type": "stream",
     "text": [
      "2\n"
     ]
    }
   ],
   "source": [
    "def solve(A):\n",
    "    ans=0\n",
    "    for i in range(32):\n",
    "        count1,count0=0,0\n",
    "        for j in A:\n",
    "            if j & 1<<i :\n",
    "                count1+=1\n",
    "            else:\n",
    "                count0+=1\n",
    "        ans=ans+(count0*count1*2)\n",
    "        \n",
    "    print(ans)\n",
    "    \n",
    "solve([1,3])\n",
    "        "
   ]
  },
  {
   "cell_type": "code",
   "execution_count": 1,
   "id": "115e06fe",
   "metadata": {},
   "outputs": [
    {
     "name": "stdout",
     "output_type": "stream",
     "text": [
      "8\n"
     ]
    }
   ],
   "source": [
    "# Python program to compute sum of pairwise bit differences\n",
    "\n",
    "def sumBitDifferences(arr, n):\n",
    "\n",
    "\tans = 0 # Initialize result\n",
    "\n",
    "\t# traverse over all bits\n",
    "\tfor i in range(0, 32):\n",
    "\t\n",
    "\t\t# count number of elements with i'th bit set\n",
    "\t\tcount = 0\n",
    "\t\tfor j in range(0, n):\n",
    "\t\t\tif ( (arr[j] & (1 << i)) ):\n",
    "\t\t\t\tcount+= 1\n",
    "\n",
    "\t\t# Add \"count * (n - count) * 2\" to the answer\n",
    "\t\tans += (count * (n - count) * 2);\n",
    "\t\n",
    "\treturn ans\n",
    "\n",
    "# Driver prorgram\n",
    "arr = [1, 3, 5]\n",
    "n = len(arr )\n",
    "print(sumBitDifferences(arr, n))\n",
    "\n",
    "# This code is contributed by\n",
    "# Smitha Dinesh Semwal\n"
   ]
  },
  {
   "cell_type": "markdown",
   "id": "bbabcc8d",
   "metadata": {},
   "source": [
    "# Right most set bit"
   ]
  },
  {
   "cell_type": "markdown",
   "id": "6d6ae340",
   "metadata": {},
   "source": [
    "x\"= (~x+1)\n",
    "\n",
    "x\"= -x\n",
    "\n",
    "both the above method will find 2's compliment of number\n",
    "\n",
    "To find right most set bit ou need to find rsbm(x & x\")"
   ]
  },
  {
   "cell_type": "code",
   "execution_count": null,
   "id": "38d48a5a",
   "metadata": {},
   "outputs": [],
   "source": [
    "bin(24)"
   ]
  },
  {
   "cell_type": "code",
   "execution_count": 3,
   "id": "5536a8ee",
   "metadata": {},
   "outputs": [
    {
     "data": {
      "text/plain": [
       "8"
      ]
     },
     "execution_count": 3,
     "metadata": {},
     "output_type": "execute_result"
    }
   ],
   "source": [
    "24 & -24"
   ]
  },
  {
   "cell_type": "code",
   "execution_count": 4,
   "id": "d967af41",
   "metadata": {},
   "outputs": [
    {
     "data": {
      "text/plain": [
       "'0b1000'"
      ]
     },
     "execution_count": 4,
     "metadata": {},
     "output_type": "execute_result"
    }
   ],
   "source": [
    "bin(8)"
   ]
  },
  {
   "cell_type": "markdown",
   "id": "656e00b1",
   "metadata": {},
   "source": [
    "# Kernighan's Algortithm"
   ]
  },
  {
   "cell_type": "markdown",
   "id": "c0896fd6",
   "metadata": {},
   "source": [
    "You are given a no. N.\n",
    "You have to count the no. of set bit in it.\n",
    "\n",
    "example= 11100001 = 4\n",
    "\n",
    "n=n-rsbm\n",
    "\n",
    "rsbn= n & -n"
   ]
  },
  {
   "cell_type": "code",
   "execution_count": 7,
   "id": "f8def026",
   "metadata": {},
   "outputs": [
    {
     "name": "stdout",
     "output_type": "stream",
     "text": [
      "45\n",
      "The no. is ::45\n",
      "Binary is :: 0b101101\n",
      "Total set bit are : 4\n"
     ]
    }
   ],
   "source": [
    "def solve():\n",
    "    n=int(input())\n",
    "    print(f\"The no. is ::{n}\")\n",
    "    print(f\"Binary is :: {bin(n)}\")\n",
    "    \n",
    "    count=0\n",
    "    rsbn= n & -n\n",
    "    \n",
    "    while n!=0:\n",
    "        n=n-rsbn\n",
    "        rsbn = n & -n\n",
    "        count+=1\n",
    "        \n",
    "    print(f\"Total set bit are : {count}\")\n",
    "    \n",
    "solve()   "
   ]
  },
  {
   "cell_type": "markdown",
   "id": "df14a6d2",
   "metadata": {},
   "source": [
    "# Microsoft"
   ]
  },
  {
   "cell_type": "markdown",
   "id": "231b5cb8",
   "metadata": {},
   "source": [
    "Count trailing zeroes in factorial of a number\n",
    "\n",
    "Difficulty Level : Medium\n",
    "\n",
    "Given an integer n, write a function that returns count of trailing zeroes in n!. "
   ]
  },
  {
   "cell_type": "markdown",
   "id": "e10f4962",
   "metadata": {},
   "source": [
    "Input: n = 5\n",
    "Output: 1 \n",
    "Factorial of 5 is 120 which has one trailing 0.\n",
    "\n",
    "Input: n = 20\n",
    "Output: 4\n",
    "Factorial of 20 is 2432902008176640000 which has\n",
    "4 trailing zeroes.\n",
    "\n",
    "Input: n = 100\n",
    "Output: 24"
   ]
  },
  {
   "cell_type": "code",
   "execution_count": 52,
   "id": "1da4a208",
   "metadata": {},
   "outputs": [
    {
     "name": "stdout",
     "output_type": "stream",
     "text": [
      "5\n",
      "factorial : 120\n",
      "fact: 12   ans: 1\n"
     ]
    }
   ],
   "source": [
    "#Brute forces solution approach\n",
    "\n",
    "def fact(n):\n",
    "    if n==1:\n",
    "        return 1\n",
    "    else:\n",
    "        return n*fact(n-1)\n",
    "\n",
    "def solve():\n",
    "    n=int(input())\n",
    "    n=fact(n)\n",
    "    print(f'factorial : {n}')\n",
    "    ans=0\n",
    "    while n%10==0:\n",
    "        n=int(n/10)\n",
    "        ans+=1\n",
    "    print(f'fact: {n}   ans: {ans}')\n",
    "\n",
    "    \n",
    "solve()"
   ]
  },
  {
   "cell_type": "code",
   "execution_count": 51,
   "id": "6647e1ef",
   "metadata": {},
   "outputs": [
    {
     "name": "stdout",
     "output_type": "stream",
     "text": [
      "3\n",
      "0\n"
     ]
    }
   ],
   "source": [
    "import math\n",
    "def solve():\n",
    "    ans=0\n",
    "    k=1\n",
    "    n=int(input())\n",
    "    while (n/(5**k))>=1:\n",
    "        ans=ans+math.floor(n/5**k)\n",
    "        k+=1\n",
    "        \n",
    "    print(ans)\n",
    "\n",
    "solve()   "
   ]
  },
  {
   "cell_type": "markdown",
   "id": "5b9c5923",
   "metadata": {},
   "source": [
    "# Anagram"
   ]
  },
  {
   "cell_type": "markdown",
   "id": "c9e865c9",
   "metadata": {},
   "source": [
    "Given a sequence of words, print all anagrams together \n",
    "\n",
    "Given an array of words, print all anagrams together. For example, if the given array is {“cat”, “dog”, “tac”, “god”, “act”}, then output may be “cat tac act dog god”."
   ]
  },
  {
   "cell_type": "code",
   "execution_count": 1,
   "id": "bc4d2a6c",
   "metadata": {},
   "outputs": [
    {
     "ename": "AttributeError",
     "evalue": "'str' object has no attribute 'sort'",
     "output_type": "error",
     "traceback": [
      "\u001b[0;31m---------------------------------------------------------------------------\u001b[0m",
      "\u001b[0;31mAttributeError\u001b[0m                            Traceback (most recent call last)",
      "\u001b[0;32m<ipython-input-1-face80ed020b>\u001b[0m in \u001b[0;36m<module>\u001b[0;34m\u001b[0m\n\u001b[1;32m      5\u001b[0m \u001b[0;34m\u001b[0m\u001b[0m\n\u001b[1;32m      6\u001b[0m \u001b[0marr\u001b[0m\u001b[0;34m=\u001b[0m\u001b[0;34m[\u001b[0m\u001b[0;34m\"cat\"\u001b[0m\u001b[0;34m,\u001b[0m\u001b[0;34m\"gate\"\u001b[0m\u001b[0;34m,\u001b[0m\u001b[0;34m\"tac\"\u001b[0m\u001b[0;34m,\u001b[0m\u001b[0;34m\"ateg\"\u001b[0m\u001b[0;34m]\u001b[0m\u001b[0;34m\u001b[0m\u001b[0;34m\u001b[0m\u001b[0m\n\u001b[0;32m----> 7\u001b[0;31m \u001b[0msolve\u001b[0m\u001b[0;34m(\u001b[0m\u001b[0marr\u001b[0m\u001b[0;34m)\u001b[0m\u001b[0;34m\u001b[0m\u001b[0;34m\u001b[0m\u001b[0m\n\u001b[0m",
      "\u001b[0;32m<ipython-input-1-face80ed020b>\u001b[0m in \u001b[0;36msolve\u001b[0;34m(arr)\u001b[0m\n\u001b[1;32m      1\u001b[0m \u001b[0;32mdef\u001b[0m \u001b[0msolve\u001b[0m\u001b[0;34m(\u001b[0m\u001b[0marr\u001b[0m\u001b[0;34m)\u001b[0m\u001b[0;34m:\u001b[0m\u001b[0;34m\u001b[0m\u001b[0;34m\u001b[0m\u001b[0m\n\u001b[1;32m      2\u001b[0m     \u001b[0;32mfor\u001b[0m \u001b[0mi\u001b[0m \u001b[0;32min\u001b[0m \u001b[0marr\u001b[0m\u001b[0;34m:\u001b[0m\u001b[0;34m\u001b[0m\u001b[0;34m\u001b[0m\u001b[0m\n\u001b[0;32m----> 3\u001b[0;31m         \u001b[0mi\u001b[0m\u001b[0;34m.\u001b[0m\u001b[0msort\u001b[0m\u001b[0;34m(\u001b[0m\u001b[0;34m)\u001b[0m\u001b[0;34m\u001b[0m\u001b[0;34m\u001b[0m\u001b[0m\n\u001b[0m\u001b[1;32m      4\u001b[0m     \u001b[0mprint\u001b[0m\u001b[0;34m(\u001b[0m\u001b[0marr\u001b[0m\u001b[0;34m)\u001b[0m\u001b[0;34m\u001b[0m\u001b[0;34m\u001b[0m\u001b[0m\n\u001b[1;32m      5\u001b[0m \u001b[0;34m\u001b[0m\u001b[0m\n",
      "\u001b[0;31mAttributeError\u001b[0m: 'str' object has no attribute 'sort'"
     ]
    }
   ],
   "source": [
    "def solve(arr):\n",
    "    for i in arr:\n",
    "        i.sort()\n",
    "    print(arr)\n",
    "    \n",
    "arr=[\"cat\",\"gate\",\"tac\",\"ateg\"]\n",
    "solve(arr)    "
   ]
  },
  {
   "cell_type": "markdown",
   "id": "67888e47",
   "metadata": {},
   "source": [
    "# Google"
   ]
  },
  {
   "cell_type": "markdown",
   "id": "c71353e3",
   "metadata": {},
   "source": [
    "Problem\n",
    "There are N houses for sale. The i-th house costs Ai dollars to buy. You have a budget of B dollars to spend.\n",
    "\n",
    "What is the maximum number of houses you can buy?\n",
    "\n",
    "Input\n",
    "The first line of the input gives the number of test cases, T. T test cases follow. Each test case begins with a single line containing the two integers N and B. The second line contains N integers. The i-th integer is Ai, the cost of the i-th house.\n",
    "\n",
    "Output\n",
    "For each test case, output one line containing Case #x: y, where x is the test case number (starting from 1) and y is the maximum number of houses you can buy.\n",
    "\n",
    "Limits\n",
    "Time limit: 15 seconds per test set.\n",
    "Memory limit: 1GB.\n",
    "1 ≤ T ≤ 100.\n",
    "1 ≤ B ≤ 105.\n",
    "1 ≤ Ai ≤ 1000, for all i.\n",
    "Test set 1\n",
    "1 ≤ N ≤ 100.\n",
    "Test set 2\n",
    "1 ≤ N ≤ 105.\n",
    "Sample\n",
    "\n",
    "Input\n",
    " \t\n",
    "Output\n",
    " \n",
    "3\n",
    "4 100\n",
    "20 90 40 90\n",
    "4 50\n",
    "30 30 10 10\n",
    "3 300\n",
    "999 999 999\n",
    "\n",
    "  \n",
    "Case #1: 2\n",
    "Case #2: 3\n",
    "Case #3: 0\n",
    "\n",
    "  \n",
    "In Sample Case #1, you have a budget of 100 dollars. You can buy the 1st and 3rd houses for 20 + 40 = 60 dollars.\n",
    "In Sample Case #2, you have a budget of 50 dollars. You can buy the 1st, 3rd and 4th houses for 30 + 10 + 10 = 50 dollars.\n",
    "In Sample Case #3, you have a budget of 300 dollars. You cannot buy any houses (so the answer is 0).\n",
    "Note: Unlike previous editions, in Kick Start 2020, all test sets are visible verdict test sets, meaning you receive instant feedback upon submission."
   ]
  },
  {
   "cell_type": "code",
   "execution_count": 1,
   "id": "a55e1c68",
   "metadata": {},
   "outputs": [
    {
     "name": "stdout",
     "output_type": "stream",
     "text": [
      "3\n",
      "4 100\n",
      "20 90 40 90\n",
      "4 50\n",
      "30 30 10 10\n",
      "3 300\n",
      "999 999\n",
      "Case #1: 2 \n",
      "Case #2: 3 \n",
      "Case #3: 0 \n"
     ]
    }
   ],
   "source": [
    "import bisect\n",
    "def sol(A,B):\n",
    "    for i in range(1,len(A)):\n",
    "        A[i]=A[i]+A[i-1]\n",
    "    return bisect.bisect(A,B)\n",
    "        \n",
    "    \n",
    "    \n",
    "T=int(input())\n",
    "ans=[]\n",
    "while T>0:\n",
    "    lstN=list(map(int,input().split()))\n",
    "    N=lstN[0]\n",
    "    B=lstN[1]\n",
    "    A=list(map(int,input().split()))\n",
    "    A.sort()\n",
    "    output=sol(A,B)\n",
    "    ans.append(output)\n",
    "    T-=1\n",
    "    \n",
    "for i in range(0,len(ans)):\n",
    "    print(f\"Case #{i+1}: {ans[i]} \")\n",
    "    "
   ]
  },
  {
   "cell_type": "markdown",
   "id": "6d8ccc1b",
   "metadata": {},
   "source": [
    "# Kernighan ALgo"
   ]
  },
  {
   "cell_type": "markdown",
   "id": "970f83d5",
   "metadata": {},
   "source": [
    "Find if Given number is power of 2 or not. More specifically, find if given number can be expressed as 2^k where k >= 1.\n",
    "\n",
    "Input:\n",
    "\n",
    "number length can be more than 64, which mean number can be greater than 2 ^ 64 (out of long long range)\n",
    "Output:\n",
    "\n",
    "return 1 if the number is a power of 2 else return 0\n",
    "Example:\n",
    "\n",
    "Input : 128\n",
    "Output : 1"
   ]
  },
  {
   "cell_type": "code",
   "execution_count": 10,
   "id": "e92432fc",
   "metadata": {},
   "outputs": [
    {
     "name": "stdout",
     "output_type": "stream",
     "text": [
      "2\n"
     ]
    },
    {
     "data": {
      "text/plain": [
       "1"
      ]
     },
     "execution_count": 10,
     "metadata": {},
     "output_type": "execute_result"
    }
   ],
   "source": [
    "def solve():\n",
    "    n=input()\n",
    "    n=int(n)      \n",
    "    rsbn=n & -n\n",
    "    n=n-rsbn\n",
    "    if n==0:\n",
    "        return 1\n",
    "    else:return 0\n",
    "    \n",
    "solve()"
   ]
  },
  {
   "cell_type": "markdown",
   "id": "16728a87",
   "metadata": {},
   "source": [
    "# Balance Array"
   ]
  },
  {
   "cell_type": "code",
   "execution_count": 111,
   "id": "e723c6a0",
   "metadata": {},
   "outputs": [],
   "source": [
    "#Brute force approach\n",
    "def solve( A):\n",
    "    odd,even,i=-1,0,0\n",
    "    count=0\n",
    "    while i<len(A):\n",
    "        p=A.copy()\n",
    "        p.pop(i)\n",
    "        odd=sum([p[j] for j in range(1,len(p),2)])\n",
    "        even=sum([p[j] for j in range(0,len(p),2)])\n",
    "        \n",
    "        if even==odd:\n",
    "            count+=1\n",
    "            i+=1\n",
    "        else:\n",
    "            i+=1\n",
    "            p.clear()\n",
    "        \n",
    "    return count\n",
    "        \n",
    "\n",
    "        \n",
    "            "
   ]
  },
  {
   "cell_type": "code",
   "execution_count": 16,
   "id": "ebd4da63",
   "metadata": {},
   "outputs": [
    {
     "data": {
      "text/plain": [
       "1"
      ]
     },
     "execution_count": 16,
     "metadata": {},
     "output_type": "execute_result"
    }
   ],
   "source": [
    "#Efficient Approach  \n",
    "# [5,5,2,5,8]\n",
    "\n",
    "def solve(A):\n",
    "    n=len(A)\n",
    "    even=0\n",
    "    odd=0\n",
    "    count=0\n",
    "    oddPrefix=[0]*n\n",
    "    evenPrefix=[0]*n\n",
    "    oddSuffix=[0]*n\n",
    "    evenSuffix=[0]*n\n",
    "    \n",
    "    for i in range(0,n):\n",
    "        if i%2==0:\n",
    "            even=even+A[i]\n",
    "        else:\n",
    "            odd=odd+A[i]\n",
    "            \n",
    "        evenPrefix[i]=even\n",
    "        oddPrefix[i]=odd\n",
    "    \n",
    "    even,odd=0,0\n",
    "    for i in reversed(range(0,n)):\n",
    "        if i%2==0:\n",
    "            even=even+A[i]\n",
    "        else:\n",
    "            odd=odd+A[i]\n",
    "            \n",
    "        evenSuffix[i]=even\n",
    "        oddSuffix[i]=odd\n",
    "        \n",
    "    for i in range(0,n):\n",
    "        if evenPrefix[i]+oddSuffix[i]==evenSuffix[i]+oddPrefix[i]:\n",
    "            count+=1\n",
    "    return count\n",
    "\n",
    "\n",
    "            \n",
    "            \n",
    "    \n",
    "\n",
    "solve([ 2, 1, 6, 4 ])"
   ]
  },
  {
   "cell_type": "markdown",
   "id": "65e804fd",
   "metadata": {},
   "source": [
    "# Next Smallest Palindrome"
   ]
  },
  {
   "cell_type": "code",
   "execution_count": 79,
   "id": "dc44b58a",
   "metadata": {},
   "outputs": [],
   "source": [
    "def solve(A):#2345\n",
    "    n=len(A)\n",
    "    if n==1 and int(A[0])<11:\n",
    "        return \"11\"\n",
    "        \n",
    "    elif n%2==0:\n",
    "        first=A[:int(n/2)]\n",
    "        second=A[int(n/2):]\n",
    "        if int(first[-1::-1])<=int(second):\n",
    "            first=str(int(first)+1)\n",
    "            second=first[-1::-1]\n",
    "        else:\n",
    "            second=first[-1::-1]\n",
    "    \n",
    "    else:\n",
    "        mid=int(n/2)\n",
    "        first=A[:mid]\n",
    "        second=A[mid+1:]\n",
    "        if int(first[-1::-1])<=int(second):\n",
    "            first=str(int(A[:mid+1])+1)\n",
    "            second=first[-2::-1]\n",
    "        else:\n",
    "            second=first[-1::-1]\n",
    "            first=A[:mid+1]\n",
    "    return first+second\n",
    "            \n",
    "        \n",
    "    "
   ]
  },
  {
   "cell_type": "markdown",
   "id": "7a887626",
   "metadata": {},
   "source": [
    "# Hamming Distance Google problem, "
   ]
  },
  {
   "cell_type": "code",
   "execution_count": 5,
   "id": "8552b1d1",
   "metadata": {},
   "outputs": [
    {
     "name": "stdout",
     "output_type": "stream",
     "text": [
      "0\n"
     ]
    }
   ],
   "source": [
    "def solve(A):\n",
    "    i=0\n",
    "    ans=0\n",
    "    while i<32:\n",
    "        count0,count1=0,0\n",
    "        for item in A:\n",
    "            bit= item & 1<<i\n",
    "            if bit==0:\n",
    "                count0+=1\n",
    "            else:count1+=1\n",
    "                \n",
    "        ans+=2*(count0*count1)\n",
    "        i+=1\n",
    "        \n",
    "    print(ans)\n",
    "    \n",
    "a=[1,1,1]\n",
    "solve(a)"
   ]
  },
  {
   "cell_type": "code",
   "execution_count": null,
   "id": "3c10359b",
   "metadata": {},
   "outputs": [],
   "source": [
    "Given an interger array of size N, whr every element occurs thrice"
   ]
  },
  {
   "cell_type": "code",
   "execution_count": 14,
   "id": "9800da70",
   "metadata": {},
   "outputs": [
    {
     "name": "stdout",
     "output_type": "stream",
     "text": [
      "56\n"
     ]
    }
   ],
   "source": [
    "def solve(A):\n",
    "    i=0\n",
    "    ans=0\n",
    "    while i<32:\n",
    "        temp=0\n",
    "        for item in A:\n",
    "            temp+=item>>i & 1\n",
    "            \n",
    "        ans=ans|(temp%3)<<i\n",
    "        i+=1\n",
    "        \n",
    "    print(ans)\n",
    "    \n",
    "A=[1,2,4,4,4,3,3,2,2,3,1,1,876,876,876,56]\n",
    "solve(A)"
   ]
  },
  {
   "cell_type": "markdown",
   "id": "ff1ba6d6",
   "metadata": {},
   "source": [
    "# rotate the matrix 90 degree"
   ]
  },
  {
   "cell_type": "code",
   "execution_count": 9,
   "id": "f1b647d1",
   "metadata": {},
   "outputs": [
    {
     "name": "stdout",
     "output_type": "stream",
     "text": [
      "[[1, 4, 1], [2, 7, 1], [3, 5, 1]]\n",
      "[[1, 1, 4], [2, 1, 7], [3, 1, 5]]\n"
     ]
    }
   ],
   "source": [
    "A=[[1,2,3],\n",
    "   [4,7,5],\n",
    "   [1,1,1]]\n",
    "def transpose(A):\n",
    "    for i in range(0,len(A)):\n",
    "        for j in range(i+1,len(A)):\n",
    "            A[i][j],A[j][i]=A[j][i],A[i][j]\n",
    "            \n",
    "    print(A)\n",
    "    n=len(A[0])//2\n",
    "    for i in range(0,len(A)):\n",
    "        for j in range(0,n+1):\n",
    "            A[i][j],A[i][n-1-j]=A[i][n-1-j],A[i][j]\n",
    "            \n",
    "    print(A)\n",
    "    \n",
    "transpose(A)"
   ]
  },
  {
   "cell_type": "markdown",
   "id": "b751bad3",
   "metadata": {},
   "source": [
    "# Spiral Matrix"
   ]
  },
  {
   "cell_type": "code",
   "execution_count": 16,
   "id": "c7517b78",
   "metadata": {},
   "outputs": [
    {
     "ename": "TabError",
     "evalue": "inconsistent use of tabs and spaces in indentation (<ipython-input-16-e70144b607ac>, line 5)",
     "output_type": "error",
     "traceback": [
      "\u001b[0;36m  File \u001b[0;32m\"<ipython-input-16-e70144b607ac>\"\u001b[0;36m, line \u001b[0;32m5\u001b[0m\n\u001b[0;31m    top=0\u001b[0m\n\u001b[0m         ^\u001b[0m\n\u001b[0;31mTabError\u001b[0m\u001b[0;31m:\u001b[0m inconsistent use of tabs and spaces in indentation\n"
     ]
    }
   ],
   "source": [
    "class Solution:\n",
    "\t# @param A : integer\n",
    "\t# @return a list of list of integers\n",
    "\tdef generateMatrix(self, A):\n",
    "        top=0\n",
    "        left=0\n",
    "        right=A\n",
    "        buttom=A\n",
    "        ans=[[0 for i in range(A)]for j in range(A)]\n",
    "        p=1\n",
    "        while top<=buttom and left<=right:\n",
    "            \n",
    "            for i in range(left,right):\n",
    "                ans[top][i]=p\n",
    "                p+=1\n",
    "                \n",
    "            top+=1\n",
    "           \n",
    "            for i in range(top,buttom):           \n",
    "                ans[i][right-1]=p\n",
    "                p+=1\n",
    "            right-=1\n",
    "           \n",
    "            for i in range(right-1,left-1,-1):                \n",
    "                ans[buttom-1][i]=p\n",
    "                p+=1\n",
    "            buttom-=1\n",
    "            \n",
    "            for i in range(buttom-1,top-1,-1):               \n",
    "                ans[i][left]=p\n",
    "                p+=1\n",
    "            left+=1\n",
    "           \n",
    "        return ans\n"
   ]
  },
  {
   "cell_type": "code",
   "execution_count": 22,
   "id": "2f751c40",
   "metadata": {},
   "outputs": [
    {
     "ename": "SyntaxError",
     "evalue": "invalid syntax (<ipython-input-22-554eaf7446a8>, line 1)",
     "output_type": "error",
     "traceback": [
      "\u001b[0;36m  File \u001b[0;32m\"<ipython-input-22-554eaf7446a8>\"\u001b[0;36m, line \u001b[0;32m1\u001b[0m\n\u001b[0;31m    a=[[0 +for i in range(4)] for i in range(4)]\u001b[0m\n\u001b[0m           ^\u001b[0m\n\u001b[0;31mSyntaxError\u001b[0m\u001b[0;31m:\u001b[0m invalid syntax\n"
     ]
    }
   ],
   "source": []
  },
  {
   "cell_type": "markdown",
   "id": "a6c95972",
   "metadata": {},
   "source": [
    "# Reverse the senetence (Amazon, adobe, Ola)"
   ]
  },
  {
   "cell_type": "code",
   "execution_count": 3,
   "id": "388ff2a7",
   "metadata": {},
   "outputs": [
    {
     "name": "stdout",
     "output_type": "stream",
     "text": [
      "picture my is this\n"
     ]
    }
   ],
   "source": [
    "def rev(s,start,end):\n",
    "   \n",
    "    while start<end:\n",
    "        s[start],s[end]=s[end],s[start]\n",
    "        start+=1\n",
    "        end-=1\n",
    "    return s\n",
    "\n",
    "st=\"this is my picture\"\n",
    "st=list(st)\n",
    "st=rev(st,0,len(st)-1)\n",
    "#print(st)\n",
    "start=0\n",
    "end=0\n",
    "for i in range(0,len(st)):\n",
    "    if st[i]==\" \" and i!=(len(st)-1):\n",
    "        end=i-1\n",
    "        st=rev(st,start,end)\n",
    "        start=i+1\n",
    "        \n",
    "    elif i==(len(st)-1):\n",
    "        end=i\n",
    "        st=rev(st,start,end)\n",
    "st=\"\".join(st)        \n",
    "print(st)\n",
    "\n"
   ]
  },
  {
   "cell_type": "markdown",
   "id": "6c9f6822",
   "metadata": {},
   "source": [
    "# Calculate the length of largest palindrone "
   ]
  },
  {
   "cell_type": "code",
   "execution_count": 9,
   "id": "bb8bf927",
   "metadata": {},
   "outputs": [
    {
     "name": "stdout",
     "output_type": "stream",
     "text": [
      "aaabaaa\n"
     ]
    }
   ],
   "source": [
    "def check(st,i,j):\n",
    "    while i>=0 and j<len(st) and st[i]==st[j]:\n",
    "        i-=1\n",
    "        j+=1\n",
    "    return i+1,j-1,j-i-1\n",
    "A=\"aaaabaaa\"\n",
    "A=list(A)\n",
    "n=len(A)\n",
    "ans=0\n",
    "start=0\n",
    "end=0\n",
    "        \n",
    "for i in range(0,n):\n",
    "    i1,j1,n1=check(A,i,i)\n",
    "    i2,j2,n2=check(A,i,i+1)\n",
    "    ans=max(ans,n1,n2)\n",
    "\n",
    "    if ans==n1:\n",
    "        start=i1\n",
    "        end=j1\n",
    "    elif ans==n2:\n",
    "        start=i2\n",
    "        end=j2\n",
    "        \n",
    "ans=''\n",
    "for i in range(start,end+1):\n",
    "    ans+=A[i]\n",
    "            \n",
    "print(ans)\n"
   ]
  },
  {
   "cell_type": "code",
   "execution_count": 11,
   "id": "7aa8511a",
   "metadata": {},
   "outputs": [
    {
     "ename": "TypeError",
     "evalue": "unsupported operand type(s) for ^=: 'str' and 'int'",
     "output_type": "error",
     "traceback": [
      "\u001b[0;31m---------------------------------------------------------------------------\u001b[0m",
      "\u001b[0;31mTypeError\u001b[0m                                 Traceback (most recent call last)",
      "\u001b[0;32m<ipython-input-11-8dfca0712ac6>\u001b[0m in \u001b[0;36m<module>\u001b[0;34m\u001b[0m\n\u001b[1;32m      2\u001b[0m \u001b[0ms\u001b[0m\u001b[0;34m=\u001b[0m\u001b[0mlist\u001b[0m\u001b[0;34m(\u001b[0m\u001b[0ms\u001b[0m\u001b[0;34m)\u001b[0m\u001b[0;34m\u001b[0m\u001b[0;34m\u001b[0m\u001b[0m\n\u001b[1;32m      3\u001b[0m \u001b[0;32mfor\u001b[0m \u001b[0mi\u001b[0m \u001b[0;32min\u001b[0m \u001b[0mrange\u001b[0m\u001b[0;34m(\u001b[0m\u001b[0;36m0\u001b[0m\u001b[0;34m,\u001b[0m\u001b[0mlen\u001b[0m\u001b[0;34m(\u001b[0m\u001b[0ms\u001b[0m\u001b[0;34m)\u001b[0m\u001b[0;34m)\u001b[0m\u001b[0;34m:\u001b[0m\u001b[0;34m\u001b[0m\u001b[0;34m\u001b[0m\u001b[0m\n\u001b[0;32m----> 4\u001b[0;31m     \u001b[0ms\u001b[0m\u001b[0;34m[\u001b[0m\u001b[0mi\u001b[0m\u001b[0;34m]\u001b[0m\u001b[0;34m^=\u001b[0m\u001b[0;36m32\u001b[0m\u001b[0;34m\u001b[0m\u001b[0;34m\u001b[0m\u001b[0m\n\u001b[0m\u001b[1;32m      5\u001b[0m \u001b[0;34m\u001b[0m\u001b[0m\n\u001b[1;32m      6\u001b[0m \u001b[0mprint\u001b[0m\u001b[0;34m(\u001b[0m\u001b[0ms\u001b[0m\u001b[0;34m)\u001b[0m\u001b[0;34m\u001b[0m\u001b[0;34m\u001b[0m\u001b[0m\n",
      "\u001b[0;31mTypeError\u001b[0m: unsupported operand type(s) for ^=: 'str' and 'int'"
     ]
    }
   ],
   "source": [
    "s='This Is my'\n",
    "s=list(s)\n",
    "for i in range(0,len(s)):\n",
    "    s[i]^=32\n",
    "    \n",
    "print(s)\n"
   ]
  },
  {
   "cell_type": "markdown",
   "id": "ebd2f1b1",
   "metadata": {},
   "source": [
    "# Google, Amazon, Facebook"
   ]
  },
  {
   "cell_type": "markdown",
   "id": "3cac01c0",
   "metadata": {},
   "source": [
    "# all subsequence"
   ]
  },
  {
   "cell_type": "code",
   "execution_count": 11,
   "id": "1bd80732",
   "metadata": {},
   "outputs": [],
   "source": [
    "import math\n",
    "class myClass:\n",
    "    \n",
    "    def check(i,j):\n",
    "        return i>>j & 1\n",
    "    \n",
    "    def solve(A):\n",
    "        n=len(A)\n",
    "        sm=0\n",
    "        for i in range(0,2**n):\n",
    "            mx=-100000\n",
    "            for j in range(0,n):\n",
    "                if check(i,j):\n",
    "                    if A[j]>mx:\n",
    "                        mx=A[j]\n",
    "                        \n",
    "            if mx !=-100000:\n",
    "                sm+=mx\n",
    "            \n",
    "        print(sm)"
   ]
  },
  {
   "cell_type": "code",
   "execution_count": 13,
   "id": "a7f60c83",
   "metadata": {},
   "outputs": [
    {
     "name": "stdout",
     "output_type": "stream",
     "text": [
      "10\n"
     ]
    }
   ],
   "source": [
    "obj=myClass\n",
    "obj.solve([3,1,-4])"
   ]
  },
  {
   "cell_type": "markdown",
   "id": "506bed47",
   "metadata": {},
   "source": [
    "# Print all subsequence using recursion"
   ]
  },
  {
   "cell_type": "code",
   "execution_count": 14,
   "id": "704dfcd2",
   "metadata": {},
   "outputs": [
    {
     "name": "stdout",
     "output_type": "stream",
     "text": [
      "[3]\n",
      "[2]\n",
      "[2, 3]\n",
      "[1]\n",
      "[1, 3]\n",
      "[1, 2]\n",
      "[1, 2, 3]\n"
     ]
    }
   ],
   "source": [
    "def getssq(A,ind,ss):\n",
    "    if ind==len(A):\n",
    "        if len(ss)!=0:\n",
    "            print(ss)\n",
    "            \n",
    "    else:\n",
    "        getssq(A,ind+1,ss)\n",
    "        getssq(A,ind+1,ss+[A[ind]])\n",
    "    return\n",
    "\n",
    "getssq([1,2,3],0,[])"
   ]
  },
  {
   "cell_type": "code",
   "execution_count": null,
   "id": "ea66d835",
   "metadata": {},
   "outputs": [],
   "source": []
  }
 ],
 "metadata": {
  "kernelspec": {
   "display_name": "Python 3",
   "language": "python",
   "name": "python3"
  },
  "language_info": {
   "codemirror_mode": {
    "name": "ipython",
    "version": 3
   },
   "file_extension": ".py",
   "mimetype": "text/x-python",
   "name": "python",
   "nbconvert_exporter": "python",
   "pygments_lexer": "ipython3",
   "version": "3.8.8"
  }
 },
 "nbformat": 4,
 "nbformat_minor": 5
}
